{
 "cells": [
  {
   "cell_type": "markdown",
   "id": "fe85077a",
   "metadata": {},
   "source": [
    "# Triangle Area"
   ]
  },
  {
   "cell_type": "code",
   "execution_count": 10,
   "id": "65670d01",
   "metadata": {},
   "outputs": [],
   "source": [
    "def calculate_triangle_area(base, height):\n",
    "    area = (base * height) / 2\n",
    "    print (\"this is the area:\", area)"
   ]
  },
  {
   "cell_type": "code",
   "execution_count": null,
   "id": "a3a1fa32",
   "metadata": {},
   "outputs": [],
   "source": []
  }
 ],
 "metadata": {
  "kernelspec": {
   "display_name": "Python 3 (ipykernel)",
   "language": "python",
   "name": "python3"
  },
  "language_info": {
   "codemirror_mode": {
    "name": "ipython",
    "version": 3
   },
   "file_extension": ".py",
   "mimetype": "text/x-python",
   "name": "python",
   "nbconvert_exporter": "python",
   "pygments_lexer": "ipython3",
   "version": "3.11.2"
  }
 },
 "nbformat": 4,
 "nbformat_minor": 5
}
